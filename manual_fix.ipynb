{
 "cells": [
  {
   "cell_type": "code",
   "execution_count": 1,
   "metadata": {},
   "outputs": [],
   "source": [
    "import cv2 as cv\n",
    "import numpy as np\n",
    "from matplotlib import pyplot as plt\n",
    "from os import path"
   ]
  },
  {
   "cell_type": "code",
   "execution_count": 2,
   "metadata": {},
   "outputs": [],
   "source": [
    "def plot_gray_image(image, title = None):\n",
    "    plt.imshow(image, cmap='gray', vmin=0, vmax=255)\n",
    "    if title:\n",
    "        plt.title(title)\n",
    "    plt.show()"
   ]
  },
  {
   "cell_type": "code",
   "execution_count": 3,
   "metadata": {},
   "outputs": [],
   "source": [
    "# Caminho completo da imagem\n",
    "dir_path = path.join(path.curdir, 'threshold_images', 'MotoC', 'Coffee')\n",
    "\n",
    "# Nome da imagem\n",
    "image_name = 'Coffee_1_pat_1cm_dist_40cm_MotoC_mask.png'\n",
    "filename, extension = image_name.split('.')  # Separando imagem e extensão"
   ]
  },
  {
   "cell_type": "code",
   "execution_count": 4,
   "metadata": {},
   "outputs": [],
   "source": [
    "# Leitura da imagem\n",
    "image = cv.imread(path.join(dir_path, image_name), cv.IMREAD_UNCHANGED)"
   ]
  },
  {
   "cell_type": "code",
   "execution_count": 5,
   "metadata": {},
   "outputs": [
    {
     "name": "stdout",
     "output_type": "stream",
     "text": [
      "Existem 0 pixels diferentes\n"
     ]
    }
   ],
   "source": [
    "# Testando se existe algum pixel diferente de 0 e 255\n",
    "# count = 0\n",
    "# for line in range(0, image.shape[0]):\n",
    "#     for column in range(0, image.shape[1]):\n",
    "#         if image[line, column] != 0 and image[line, column] != 255:\n",
    "#             count += 1\n",
    "\n",
    "# print('Existem', count, 'pixels diferentes')"
   ]
  },
  {
   "cell_type": "code",
   "execution_count": 75,
   "metadata": {},
   "outputs": [
    {
     "data": {
      "image/png": "[encoded data removed]",
      "text/plain": [
       "<Figure size 432x288 with 1 Axes>"
      ]
     },
     "metadata": {
      "needs_background": "light"
     },
     "output_type": "display_data"
    }
   ],
   "source": [
    "# Visualização da imagem\n",
    "%matplotlib inline\n",
    "plot_gray_image(image)"
   ]
  },
  {
   "cell_type": "code",
   "execution_count": 77,
   "metadata": {},
   "outputs": [
    {
     "data": {
      "image/png": "[encoded data removed]",
      "text/plain": [
       "<Figure size 432x288 with 1 Axes>"
      ]
     },
     "metadata": {
      "needs_background": "light"
     },
     "output_type": "display_data"
    }
   ],
   "source": [
    "# Ajustes na imagem [linha1:linha2, coluna1:coluna2] = 0\n",
    "# Cria um pequeno retângulo e aplica uma cor 0 -> preto ou 255 -> branco\n",
    "image[:200, :] = 0\n",
    "\n",
    "# Visualização do resultado\n",
    "plot_gray_image(image)"
   ]
  },
  {
   "cell_type": "code",
   "execution_count": 147,
   "metadata": {},
   "outputs": [
    {
     "data": {
      "text/plain": [
       "97"
      ]
     },
     "execution_count": 147,
     "metadata": {},
     "output_type": "execute_result"
    }
   ],
   "source": [
    "cv.namedWindow(\"Window\", cv.WINDOW_NORMAL);\n",
    "cv.imshow(\"Window\", image);\n",
    "cv.waitKey(0)"
   ]
  },
  {
   "cell_type": "code",
   "execution_count": 141,
   "metadata": {},
   "outputs": [
    {
     "data": {
      "image/png": "[encoded data removed]",
      "text/plain": [
       "<Figure size 432x288 with 1 Axes>"
      ]
     },
     "metadata": {
      "needs_background": "light"
     },
     "output_type": "display_data"
    }
   ],
   "source": [
    "# Testes na cópia\n",
    "image_copy = np.copy(image)\n",
    "\n",
    "for line in range(500, 750):\n",
    "    for column in range(1200, 1500):\n",
    "        image_copy[line, column] = 127\n",
    "\n",
    "# Visualização do resultado\n",
    "plot_gray_image(image_copy)"
   ]
  },
  {
   "cell_type": "code",
   "execution_count": 142,
   "metadata": {},
   "outputs": [
    {
     "data": {
      "text/plain": [
       "True"
      ]
     },
     "execution_count": 142,
     "metadata": {},
     "output_type": "execute_result"
    }
   ],
   "source": [
    "# Exportando cópia para visualização precisa\n",
    "cv.imwrite('teste.png', image_copy)"
   ]
  },
  {
   "cell_type": "code",
   "execution_count": 143,
   "metadata": {},
   "outputs": [
    {
     "data": {
      "image/png": "[encoded data removed]",
      "text/plain": [
       "<Figure size 432x288 with 1 Axes>"
      ]
     },
     "metadata": {
      "needs_background": "light"
     },
     "output_type": "display_data"
    }
   ],
   "source": [
    "# Ajustes para mudar a cor do quadrado\n",
    "\n",
    "for line in range(500, 750):\n",
    "    for column in range(1200, 1500):\n",
    "        if image[line, column] == 255:\n",
    "            image[line, column] = 127\n",
    "\n",
    "# Visualização do resultado\n",
    "plot_gray_image(image)"
   ]
  },
  {
   "cell_type": "code",
   "execution_count": 78,
   "metadata": {},
   "outputs": [
    {
     "data": {
      "text/plain": [
       "True"
      ]
     },
     "execution_count": 148,
     "metadata": {},
     "output_type": "execute_result"
    }
   ],
   "source": [
    "# Exportando a imagem\n",
    "cv.imwrite(path.join(path.curdir, dir_path, image_name), image)\n",
    "# cv.imwrite('teste.png', image)"
   ]
  }
 ],
 "metadata": {
  "kernelspec": {
   "display_name": "Python 3 (ipykernel)",
   "language": "python",
   "name": "python3"
  },
  "language_info": {
   "codemirror_mode": {
    "name": "ipython",
    "version": 3
   },
   "file_extension": ".py",
   "mimetype": "text/x-python",
   "name": "python",
   "nbconvert_exporter": "python",
   "pygments_lexer": "ipython3",
   "version": "3.10.0"
  }
 },
 "nbformat": 4,
 "nbformat_minor": 2
}
